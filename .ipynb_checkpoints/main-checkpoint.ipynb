{
 "cells": [
  {
   "cell_type": "code",
   "execution_count": 14,
   "id": "constitutional-matrix",
   "metadata": {},
   "outputs": [],
   "source": [
    "from LoadVars import *\n",
    "from ga import *\n",
    "from NeuralNet import NeuralNet, train, calculate\n",
    "from performance import calc_hv\n",
    "from SaveOutput import save\n",
    "import matplotlib.pyplot as plt\n",
    "import torch"
   ]
  },
  {
   "cell_type": "code",
   "execution_count": 15,
   "id": "revolutionary-entrepreneur",
   "metadata": {},
   "outputs": [
    {
     "name": "stdout",
     "output_type": "stream",
     "text": [
      "The benchmark problem: OSY\n",
      "\n"
     ]
    }
   ],
   "source": [
    "#Defining problem\n",
    "problem = define_problem(problem_name)\n",
    "pareto_front = problem.pareto_front()\n",
    "print(f'The benchmark problem: {problem_name.upper()}\\n')"
   ]
  },
  {
   "cell_type": "code",
   "execution_count": 16,
   "id": "spectacular-original",
   "metadata": {},
   "outputs": [
    {
     "name": "stdout",
     "output_type": "stream",
     "text": [
      "Performing initial sampling: REAL_LHS\n",
      "\n"
     ]
    }
   ],
   "source": [
    "#Initial sampling\n",
    "initial_sampling = define_sampling(initial_sampling_method_name)\n",
    "print(f'Performing initial sampling: {initial_sampling_method_name.upper()}\\n')\n",
    "InitialData = initial_sampling.do(problem, n_samples=pop_size, pop=None)"
   ]
  },
  {
   "cell_type": "code",
   "execution_count": 17,
   "id": "reported-round",
   "metadata": {},
   "outputs": [],
   "source": [
    "#Evaluating initial samples (true eval)\n",
    "InitialEval = problem.evaluate(InitialData, return_values_of=['F'])\n",
    "InitialEval_G = problem.evaluate(InitialData, return_values_of=['G'])\n",
    "InitialEval_CV = problem.evaluate(InitialData, return_values_of=['CV'])\n",
    "\n",
    "if InitialEval_G is not None:\n",
    "\tInitialEval = np.concatenate((InitialEval, InitialEval_G, InitialEval_CV), axis=1)\n",
    "\n",
    "save('OUTPUT/initial_pop_X.dat', InitialData, header='#Generation 1: X')\n",
    "save('OUTPUT/initial_pop_FGCV.dat', InitialEval, header='#Generation 1: F, G, CV')\n",
    "save('OUTPUT/all_pop_X.dat', InitialData, header='Generation 1: X')\n",
    "save('OUTPUT/all_pop_FGCV.dat', InitialEval, header='Generation 1: F, G, CV')\n",
    "save('DATA/training/X.dat', InitialData)\n",
    "save('DATA/training/OUT.dat', InitialEval[:, 0:problem.n_obj+problem.n_constr])"
   ]
  },
  {
   "cell_type": "code",
   "execution_count": 18,
   "id": "juvenile-episode",
   "metadata": {},
   "outputs": [],
   "source": [
    "#Initial performance\n",
    "HV = [0.0]\n",
    "HV += [calc_hv(InitialEval[:,range(problem.n_obj)], ref=hv_ref)]"
   ]
  },
  {
   "cell_type": "code",
   "execution_count": 19,
   "id": "typical-realtor",
   "metadata": {
    "scrolled": true
   },
   "outputs": [
    {
     "name": "stdout",
     "output_type": "stream",
     "text": [
      "Feeding the training data to the neural net...\n",
      "\n",
      "\n",
      "Performing initial training...\n",
      "\n",
      "N_Epoch = 0 Loss = 24.511734008789062\n",
      "N_Epoch = 100 Loss = 0.4098881781101227\n",
      "N_Epoch = 200 Loss = 0.38681069016456604\n",
      "N_Epoch = 300 Loss = 0.34612932801246643\n",
      "N_Epoch = 400 Loss = 0.269835501909256\n",
      "N_Epoch = 500 Loss = 0.17243728041648865\n",
      "N_Epoch = 600 Loss = 0.08344240486621857\n",
      "N_Epoch = 700 Loss = 0.043640412390232086\n",
      "N_Epoch = 800 Loss = 0.02196873165667057\n",
      "\n",
      "An initial trained model is obtained!\n",
      "\n",
      "--------------------------------------------------\n"
     ]
    }
   ],
   "source": [
    "#Initial training for neural nets\n",
    "print('Feeding the training data to the neural net...\\n\\n')\n",
    "\n",
    "Model = NeuralNet(D_in=problem.n_var,\n",
    "\t\t\t\t  H=N_Neuron, D=N_Neuron,\n",
    "\t\t\t\t  D_out=problem.n_obj+problem.n_constr)\n",
    "\n",
    "print('Performing initial training...\\n')\n",
    "\n",
    "TrainedModel = train(problem=problem,\n",
    "\t\t\t\t\t model=Model,\n",
    "\t\t\t\t     N_Epoch=N_Epoch,\n",
    "\t\t\t\t     lr=lr,\n",
    "\t\t\t\t     batchrate=batchrate)\n",
    "print('\\nAn initial trained model is obtained!\\n')\n",
    "print('--------------------------------------------------')\n",
    "TrainedModel_Problem = TrainedModelProblem(problem, TrainedModel)"
   ]
  },
  {
   "cell_type": "code",
   "execution_count": 24,
   "id": "adapted-packet",
   "metadata": {
    "scrolled": true
   },
   "outputs": [
    {
     "ename": "TypeError",
     "evalue": "setup() got an unexpected keyword argument 'selection'",
     "output_type": "error",
     "traceback": [
      "\u001b[1;31m---------------------------------------------------------------------------\u001b[0m",
      "\u001b[1;31mTypeError\u001b[0m                                 Traceback (most recent call last)",
      "\u001b[1;32m<ipython-input-24-8decbdf39bfe>\u001b[0m in \u001b[0;36m<module>\u001b[1;34m\u001b[0m\n\u001b[0;32m      7\u001b[0m \u001b[1;31m#EA settings\u001b[0m\u001b[1;33m\u001b[0m\u001b[1;33m\u001b[0m\u001b[1;33m\u001b[0m\u001b[0m\n\u001b[0;32m      8\u001b[0m \u001b[0mEA\u001b[0m \u001b[1;33m=\u001b[0m \u001b[0mEvolutionaryAlgorithm\u001b[0m\u001b[1;33m(\u001b[0m\u001b[0malgorithm_name\u001b[0m\u001b[1;33m)\u001b[0m\u001b[1;33m\u001b[0m\u001b[1;33m\u001b[0m\u001b[0m\n\u001b[1;32m----> 9\u001b[1;33m algorithm = EA.setup(pop_size=pop_size,\n\u001b[0m\u001b[0;32m     10\u001b[0m                                          \u001b[0msampling\u001b[0m\u001b[1;33m=\u001b[0m\u001b[0minitial_sampling\u001b[0m\u001b[1;33m,\u001b[0m\u001b[1;33m\u001b[0m\u001b[1;33m\u001b[0m\u001b[0m\n\u001b[0;32m     11\u001b[0m                                          \u001b[0mselection\u001b[0m\u001b[1;33m=\u001b[0m\u001b[0mselection\u001b[0m\u001b[1;33m,\u001b[0m\u001b[1;33m\u001b[0m\u001b[1;33m\u001b[0m\u001b[0m\n",
      "\u001b[1;31mTypeError\u001b[0m: setup() got an unexpected keyword argument 'selection'"
     ]
    }
   ],
   "source": [
    "#Evolutionary computation routines on the Trained Model\n",
    "\n",
    "selection = define_selection(selection_operator_name)\n",
    "crossover = define_crossover(crossover_operator_name, prob=prob_c, eta=eta_c)\n",
    "mutation = define_mutation(mutation_operator_name, eta=eta_m)\n",
    "\n",
    "#EA settings\n",
    "EA = EvolutionaryAlgorithm(algorithm_name)\n",
    "algorithm = EA.setup(pop_size=pop_size)\n",
    "# \t\t\t\t\t sampling=initial_sampling,\n",
    "# \t\t\t\t\t selection=selection,\n",
    "# \t\t\t\t\t crossover=crossover,\n",
    "# \t\t\t\t\t mutation=mutation)\n",
    "\n",
    "#Stopping criteria\n",
    "stopping_criteria_def = StoppingCriteria(termination_name)\n",
    "stopping_criteria = stopping_criteria_def.set_termination(n_gen=n_gen)\n",
    "\n",
    "#Obtaining optimal solutions on the initial trained model\n",
    "print(f'Performing optimization on the initial trained model using {algorithm_name.upper()}\\n')\n",
    "optimal_solutions =  do_optimization(TrainedModel_Problem,\n",
    "\t\t\t\t\t\t\t\t\t algorithm, stopping_criteria,\n",
    "\t\t\t\t\t\t\t\t\t verbose=True, seed=1,\n",
    "\t\t\t\t\t\t\t\t\t return_least_infeasible=False)\n",
    "print('--------------------------------------------------')\n",
    "print('\\nOptimal solutions on the initial trained model is obtained!\\n')\n",
    "print('--------------------------------------------------')"
   ]
  },
  {
   "cell_type": "code",
   "execution_count": null,
   "id": "legendary-prerequisite",
   "metadata": {},
   "outputs": [],
   "source": []
  },
  {
   "cell_type": "code",
   "execution_count": null,
   "id": "small-thing",
   "metadata": {},
   "outputs": [],
   "source": []
  }
 ],
 "metadata": {
  "kernelspec": {
   "display_name": "Python 3",
   "language": "python",
   "name": "python3"
  },
  "language_info": {
   "codemirror_mode": {
    "name": "ipython",
    "version": 3
   },
   "file_extension": ".py",
   "mimetype": "text/x-python",
   "name": "python",
   "nbconvert_exporter": "python",
   "pygments_lexer": "ipython3",
   "version": "3.9.1"
  }
 },
 "nbformat": 4,
 "nbformat_minor": 5
}
