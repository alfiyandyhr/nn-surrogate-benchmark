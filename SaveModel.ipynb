{
 "cells": [
  {
   "cell_type": "code",
   "execution_count": 1,
   "id": "sized-diving",
   "metadata": {},
   "outputs": [],
   "source": [
    "# In this notebook, we will try to understand 2 of the most popular ways of saving weights in PyTorch-\n",
    "# 1. Saving the weights of the model using state_dict()\n",
    "# 2. Saving the whole model(including the architecture as well as the weights)\n",
    "\n",
    "# Please follow the below mentioned blog link for detailed explaination of this notebook.\n",
    "# https://medium.com/@animesh7pointer/everything-you-need-to-know-about-saving-weights-in-pytorch-572651f3f8de"
   ]
  },
  {
   "cell_type": "code",
   "execution_count": 2,
   "id": "lightweight-missile",
   "metadata": {},
   "outputs": [],
   "source": [
    "# Importing the necessary libraries\n",
    "\n",
    "import torch\n",
    "import torch.nn as nn"
   ]
  },
  {
   "cell_type": "code",
   "execution_count": 3,
   "id": "binary-printer",
   "metadata": {},
   "outputs": [],
   "source": [
    "# Defining a CNN based model\n",
    "\n",
    "class NeuralNet(nn.Module):\n",
    "    def __init__(self):\n",
    "        super(NeuralNet, self).__init__()\n",
    "        \n",
    "        self.sequential = nn.Sequential(nn.Conv2d(1, 32, 5), \n",
    "                                        nn.Conv2d(32, 64, 5), \n",
    "                                        nn.Dropout(0.3))\n",
    "        self.layer1 = nn.Conv2d(64, 128, 5)\n",
    "        self.layer2 = nn.Conv2d(128, 256, 5)\n",
    "        self.fc = nn.Linear(256*34*34, 128)\n",
    "    \n",
    "    def forward(self, x):\n",
    "        \n",
    "        output = self.sequential(x)\n",
    "        output = self.layer1(output)\n",
    "        output = self.layer2(output)\n",
    "        output = output.view(output.size()[0], -1)\n",
    "        output = self.fc(output)\n",
    "        \n",
    "        return output"
   ]
  },
  {
   "cell_type": "code",
   "execution_count": 10,
   "id": "invisible-bicycle",
   "metadata": {
    "scrolled": true
   },
   "outputs": [
    {
     "name": "stdout",
     "output_type": "stream",
     "text": [
      "NeuralNet(\n",
      "  (sequential): Sequential(\n",
      "    (0): Conv2d(1, 32, kernel_size=(5, 5), stride=(1, 1))\n",
      "    (1): Conv2d(32, 64, kernel_size=(5, 5), stride=(1, 1))\n",
      "    (2): Dropout(p=0.3, inplace=False)\n",
      "  )\n",
      "  (layer1): Conv2d(64, 128, kernel_size=(5, 5), stride=(1, 1))\n",
      "  (layer2): Conv2d(128, 256, kernel_size=(5, 5), stride=(1, 1))\n",
      "  (fc): Linear(in_features=295936, out_features=128, bias=True)\n",
      ")\n"
     ]
    }
   ],
   "source": [
    "# Initializing and printing the model to see what's inside it\n",
    "\n",
    "model = NeuralNet()\n",
    "\n",
    "print(model)"
   ]
  },
  {
   "cell_type": "code",
   "execution_count": 8,
   "id": "rental-corruption",
   "metadata": {
    "scrolled": true
   },
   "outputs": [
    {
     "name": "stdout",
     "output_type": "stream",
     "text": [
      "name:  sequential.0.weight\n",
      "<class 'torch.nn.parameter.Parameter'>\n",
      "param.shape:  torch.Size([32, 1, 5, 5])\n",
      "param.requires_grad:  True\n",
      "=====\n",
      "name:  sequential.0.bias\n",
      "<class 'torch.nn.parameter.Parameter'>\n",
      "param.shape:  torch.Size([32])\n",
      "param.requires_grad:  True\n",
      "=====\n",
      "name:  sequential.1.weight\n",
      "<class 'torch.nn.parameter.Parameter'>\n",
      "param.shape:  torch.Size([64, 32, 5, 5])\n",
      "param.requires_grad:  True\n",
      "=====\n",
      "name:  sequential.1.bias\n",
      "<class 'torch.nn.parameter.Parameter'>\n",
      "param.shape:  torch.Size([64])\n",
      "param.requires_grad:  True\n",
      "=====\n",
      "name:  layer1.weight\n",
      "<class 'torch.nn.parameter.Parameter'>\n",
      "param.shape:  torch.Size([128, 64, 5, 5])\n",
      "param.requires_grad:  True\n",
      "=====\n",
      "name:  layer1.bias\n",
      "<class 'torch.nn.parameter.Parameter'>\n",
      "param.shape:  torch.Size([128])\n",
      "param.requires_grad:  True\n",
      "=====\n",
      "name:  layer2.weight\n",
      "<class 'torch.nn.parameter.Parameter'>\n",
      "param.shape:  torch.Size([256, 128, 5, 5])\n",
      "param.requires_grad:  True\n",
      "=====\n",
      "name:  layer2.bias\n",
      "<class 'torch.nn.parameter.Parameter'>\n",
      "param.shape:  torch.Size([256])\n",
      "param.requires_grad:  True\n",
      "=====\n",
      "name:  fc.weight\n",
      "<class 'torch.nn.parameter.Parameter'>\n",
      "param.shape:  torch.Size([128, 295936])\n",
      "param.requires_grad:  True\n",
      "=====\n",
      "name:  fc.bias\n",
      "<class 'torch.nn.parameter.Parameter'>\n",
      "param.shape:  torch.Size([128])\n",
      "param.requires_grad:  True\n",
      "=====\n"
     ]
    }
   ],
   "source": [
    "# Printing all the parameters of the model\n",
    "\n",
    "for name, param in model.named_parameters():\n",
    "    print('name: ', name)\n",
    "    print(type(param))\n",
    "    print('param.shape: ', param.shape)\n",
    "    print('param.requires_grad: ', param.requires_grad)\n",
    "    print('=====')"
   ]
  },
  {
   "cell_type": "code",
   "execution_count": 11,
   "id": "complicated-array",
   "metadata": {},
   "outputs": [],
   "source": [
    "for name, param in model.named_parameters():\n",
    "    if name in ['fc.weight', 'fc.bias']:\n",
    "        param.requires_grad = True\n",
    "    else:\n",
    "        param.requires_grad = False"
   ]
  },
  {
   "cell_type": "code",
   "execution_count": 12,
   "id": "pacific-delay",
   "metadata": {},
   "outputs": [
    {
     "name": "stdout",
     "output_type": "stream",
     "text": [
      "sequential.0.weight : False\n",
      "sequential.0.bias : False\n",
      "sequential.1.weight : False\n",
      "sequential.1.bias : False\n",
      "layer1.weight : False\n",
      "layer1.bias : False\n",
      "layer2.weight : False\n",
      "layer2.bias : False\n",
      "fc.weight : True\n",
      "fc.bias : True\n"
     ]
    }
   ],
   "source": [
    "for name, param in model.named_parameters():\n",
    "    print(name, ':', param.requires_grad)"
   ]
  },
  {
   "cell_type": "code",
   "execution_count": 16,
   "id": "following-guarantee",
   "metadata": {
    "scrolled": true
   },
   "outputs": [
    {
     "name": "stdout",
     "output_type": "stream",
     "text": [
      "key:  weight\n",
      "param.shape:  torch.Size([128, 295936])\n",
      "param.requires_grad:  False\n",
      "param.shape, param.requires_grad:  torch.Size([128, 295936]) False\n",
      "isinstance(param, nn.Module)  False\n",
      "isinstance(param, nn.Parameter)  False\n",
      "isinstance(param, torch.Tensor):  True\n",
      "=====\n",
      "key:  bias\n",
      "param.shape:  torch.Size([128])\n",
      "param.requires_grad:  False\n",
      "param.shape, param.requires_grad:  torch.Size([128]) False\n",
      "isinstance(param, nn.Module)  False\n",
      "isinstance(param, nn.Parameter)  False\n",
      "isinstance(param, torch.Tensor):  True\n",
      "=====\n"
     ]
    }
   ],
   "source": [
    "for key in model.fc.state_dict():\n",
    "    print('key: ', key)\n",
    "    param = model.fc.state_dict()[key]\n",
    "    print('param.shape: ', param.shape)\n",
    "    print('param.requires_grad: ', param.requires_grad)\n",
    "    print('param.shape, param.requires_grad: ', param.shape, param.requires_grad)\n",
    "    print('isinstance(param, nn.Module) ', isinstance(param, nn.Module))\n",
    "    print('isinstance(param, nn.Parameter) ', isinstance(param, nn.Parameter))\n",
    "    print('isinstance(param, torch.Tensor): ', isinstance(param, torch.Tensor))\n",
    "    print('=====')"
   ]
  },
  {
   "cell_type": "code",
   "execution_count": 17,
   "id": "imperial-excerpt",
   "metadata": {},
   "outputs": [],
   "source": [
    "torch.save(model.state_dict(), 'weights_only.pth')"
   ]
  },
  {
   "cell_type": "code",
   "execution_count": 31,
   "id": "virtual-paste",
   "metadata": {},
   "outputs": [
    {
     "name": "stdout",
     "output_type": "stream",
     "text": [
      "sequential.0.weight : True\n",
      "sequential.0.bias : True\n",
      "sequential.1.weight : True\n",
      "sequential.1.bias : True\n",
      "layer1.weight : True\n",
      "layer1.bias : True\n",
      "layer2.weight : True\n",
      "layer2.bias : True\n",
      "fc.weight : True\n",
      "fc.bias : True\n"
     ]
    }
   ],
   "source": [
    "model_new = NeuralNet()\n",
    "model_new.load_state_dict(torch.load('weights_only.pth'))\n",
    "for name, param in model_new.named_parameters():\n",
    "    print(name, ':', param.requires_grad)"
   ]
  },
  {
   "cell_type": "code",
   "execution_count": 32,
   "id": "surprising-claim",
   "metadata": {},
   "outputs": [],
   "source": [
    "torch.save(model, 'entire_model.pth')"
   ]
  },
  {
   "cell_type": "code",
   "execution_count": 33,
   "id": "computational-meeting",
   "metadata": {},
   "outputs": [
    {
     "name": "stdout",
     "output_type": "stream",
     "text": [
      "sequential.0.weight : False\n",
      "sequential.0.bias : False\n",
      "sequential.1.weight : False\n",
      "sequential.1.bias : False\n",
      "layer1.weight : False\n",
      "layer1.bias : False\n",
      "layer2.weight : False\n",
      "layer2.bias : False\n",
      "fc.weight : True\n",
      "fc.bias : True\n"
     ]
    }
   ],
   "source": [
    "model_new = torch.load('entire_model.pth')\n",
    "for name, param in model_new.named_parameters():\n",
    "    print(name, ':', param.requires_grad)"
   ]
  },
  {
   "cell_type": "code",
   "execution_count": null,
   "id": "mediterranean-canal",
   "metadata": {},
   "outputs": [],
   "source": []
  }
 ],
 "metadata": {
  "kernelspec": {
   "display_name": "Python 3",
   "language": "python",
   "name": "python3"
  },
  "language_info": {
   "codemirror_mode": {
    "name": "ipython",
    "version": 3
   },
   "file_extension": ".py",
   "mimetype": "text/x-python",
   "name": "python",
   "nbconvert_exporter": "python",
   "pygments_lexer": "ipython3",
   "version": "3.9.1"
  }
 },
 "nbformat": 4,
 "nbformat_minor": 5
}
